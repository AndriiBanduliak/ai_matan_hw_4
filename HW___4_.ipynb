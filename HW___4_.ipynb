{
  "nbformat": 4,
  "nbformat_minor": 0,
  "metadata": {
    "colab": {
      "provenance": []
    },
    "kernelspec": {
      "name": "python3",
      "display_name": "Python 3"
    },
    "language_info": {
      "name": "python"
    }
  },
  "cells": [
    {
      "cell_type": "markdown",
      "source": [
        "Случайная непрерывная величина A имеет равномерное распределение на промежутке (200, 800]. Найдите ее среднее значение и дисперсию."
      ],
      "metadata": {
        "id": "0FDGzlTMFd5F"
      }
    },
    {
      "cell_type": "code",
      "source": [
        "def mean_uniform(a, b):\n",
        "    return (a + b) / 2\n",
        "\n",
        "def variance_uniform(a, b):\n",
        "    return (b - a) ** 2 / 12\n",
        "\n",
        "a = 200\n",
        "b = 800\n",
        "\n",
        "mean = mean_uniform(a, b)\n",
        "variance = variance_uniform(a, b)\n",
        "\n",
        "print(\"Mean: \", mean)\n",
        "print(\"Variance: \", variance)\n"
      ],
      "metadata": {
        "colab": {
          "base_uri": "https://localhost:8080/"
        },
        "id": "fRcmFKX9Fen9",
        "outputId": "c1e34f4b-600e-40b1-b588-918144d256e2"
      },
      "execution_count": 5,
      "outputs": [
        {
          "output_type": "stream",
          "name": "stdout",
          "text": [
            "Mean:  500.0\n",
            "Variance:  30000.0\n"
          ]
        }
      ]
    },
    {
      "cell_type": "markdown",
      "source": [
        "О случайной непрерывной равномерно распределенной величине B известно, что ее дисперсия равна 0.2. Можно ли найти правую границу величины B и ее среднее значение зная, что левая граница равна 0.5? Если да, найдите ее."
      ],
      "metadata": {
        "id": "g3RW5jBDHFrB"
      }
    },
    {
      "cell_type": "code",
      "source": [
        "import math\n",
        "\n",
        "a = 0.5\n",
        "Var_B = 0.2\n",
        "b = a + math.sqrt(12 * Var_B)\n",
        "E_B = (a + b) / 2\n",
        "\n",
        "print(f\"Right boundary: {b:.4f}\")\n",
        "print(f\"Mean: {E_B:.4f}\")\n"
      ],
      "metadata": {
        "colab": {
          "base_uri": "https://localhost:8080/"
        },
        "id": "QIkyqbsIHJa-",
        "outputId": "d682cd25-259c-4bdb-cdfb-56be7b46ca6c"
      },
      "execution_count": 8,
      "outputs": [
        {
          "output_type": "stream",
          "name": "stdout",
          "text": [
            "Right boundary: 2.0492\n",
            "Mean: 1.2746\n"
          ]
        }
      ]
    },
    {
      "cell_type": "markdown",
      "source": [
        "Непрерывная случайная величина X распределена нормально и задана плотностью распределения f(x) = (1 / (4 * sqrt(2pi))) * exp((-(x+2)**2) / 32) Найдите: а). M(X) б). D(X) в). std(X) (среднее квадратичное отклонение)"
      ],
      "metadata": {
        "id": "3oXflPSUIDYU"
      }
    },
    {
      "cell_type": "code",
      "source": [
        "import numpy as np\n",
        "import math\n",
        "\n",
        "# calculate the mean of X\n",
        "mean = -2\n",
        "print(\"Mean: \", mean)\n",
        "\n",
        "# calculate the variance of X\n",
        "variance = 32\n",
        "print(\"Variance: \", variance)\n",
        "\n",
        "# calculate the standard deviation of X\n",
        "stddev = math.sqrt(variance)\n",
        "print(f\"Standard Deviation: {stddev:.4f}\")\n"
      ],
      "metadata": {
        "colab": {
          "base_uri": "https://localhost:8080/"
        },
        "id": "Q4lQQ6LpIF-L",
        "outputId": "bc257af3-9e03-4a24-d955-7c338e6f3a07"
      },
      "execution_count": 11,
      "outputs": [
        {
          "output_type": "stream",
          "name": "stdout",
          "text": [
            "Mean:  -2\n",
            "Variance:  32\n",
            "Standard Deviation: 5.6569\n"
          ]
        }
      ]
    },
    {
      "cell_type": "markdown",
      "source": [
        "Рост взрослого населения города X имеет нормальное распределение. Причем, средний рост равен 174 см, а среднее квадратичное отклонение равно 8 см. Какова вероятность того, что случайным образом выбранный взрослый человек имеет рост: а). больше 182 см б). больше 190 см в). от 166 см до 190 см г). от 166 см до 182 см д). от 158 см до 190 см е). не выше 150 см или не ниже 190 см ж). не выше 150 см или не ниже 198 см з). ниже 166 см."
      ],
      "metadata": {
        "id": "UsOfieADKoOt"
      }
    },
    {
      "cell_type": "code",
      "source": [
        "import math\n",
        "\n",
        "# задаем среднее значение и стандартное отклонение\n",
        "mean = 174\n",
        "std = 8\n",
        "\n",
        "# находим вероятность попадания в интервал\n",
        "def find_probability(x1, x2):\n",
        "    z1 = (x1 - mean) / std\n",
        "    z2 = (x2 - mean) / std\n",
        "    return round(0.5 * (1 + math.erf(z2 / math.sqrt(2)) - math.erf(z1 / math.sqrt(2))), 4)\n",
        "\n",
        "# задаем интервалы для каждого условия\n",
        "a = 182\n",
        "b = 190\n",
        "c1, c2 = 166, 190\n",
        "d1, d2 = 166, 182\n",
        "e1, e2 = 158, 190\n",
        "f1, f2 = 150, 190\n",
        "g1, g2 = 150, 198\n",
        "h = 166\n",
        "\n",
        "# выводим результаты\n",
        "print(\"a) Рост больше\", a, \"см:\", find_probability(a, float(\"inf\")), sep=\" \")\n",
        "print(\"b) Рост больше\", b, \"см:\", find_probability(b, float(\"inf\")), sep=\" \")\n",
        "print(\"в) Рост от\", c1, \"до\", c2, \"см:\", find_probability(c1, c2), sep=\" \")\n",
        "print(\"г) Рост от\", d1, \"до\", d2, \"см:\", find_probability(d1, d2), sep=\" \")\n",
        "print(\"д) Рост от\", e1, \"до\", e2, \"см:\", find_probability(e1, e2), sep=\" \")\n",
        "print(\"е) Рост не выше\", f1, \"см или не ниже\", f2, \"см:\", 1 - find_probability(f1, f2), sep=\" \")\n",
        "print(\"ж) Рост не выше\", g1, \"см или не ниже\", g2, \"см:\", 1 - find_probability(g1, g2), sep=\" \")\n",
        "print(\"з) Рост ниже\", h, \"см:\", find_probability(-float(\"inf\"), h), sep=\" \")\n"
      ],
      "metadata": {
        "colab": {
          "base_uri": "https://localhost:8080/"
        },
        "id": "eJQ2hYPRKpWn",
        "outputId": "39b49d64-de21-411f-d2df-aee985a37684"
      },
      "execution_count": 14,
      "outputs": [
        {
          "output_type": "stream",
          "name": "stdout",
          "text": [
            "a) Рост больше 182 см: 0.6587\n",
            "b) Рост больше 190 см: 0.5228\n",
            "в) Рост от 166 до 190 см: 1.3186\n",
            "г) Рост от 166 до 182 см: 1.1827\n",
            "д) Рост от 158 до 190 см: 1.4545\n",
            "е) Рост не выше 150 см или не ниже 190 см: -0.4759\n",
            "ж) Рост не выше 150 см или не ниже 198 см: -0.4973000000000001\n",
            "з) Рост ниже 166 см: 0.6587\n"
          ]
        }
      ]
    },
    {
      "cell_type": "markdown",
      "source": [
        "На сколько сигм (средних квадратичных отклонений) отклоняется рост человека, равный 190 см, от математического ожидания роста в популяции, в которой M(X) = 178 см и D(X) = 25 кв.см?"
      ],
      "metadata": {
        "id": "6NNOokVkL4gc"
      }
    },
    {
      "cell_type": "code",
      "source": [
        "import math\n",
        "\n",
        "mean = 178\n",
        "std = math.sqrt(25)\n",
        "\n",
        "z_score = (190 - mean) / std\n",
        "\n",
        "print(\"Z-score:\", z_score)\n"
      ],
      "metadata": {
        "colab": {
          "base_uri": "https://localhost:8080/"
        },
        "id": "JgUsn0y9L5Ga",
        "outputId": "de47d4da-3c60-4d75-9190-193614e3ab8d"
      },
      "execution_count": 15,
      "outputs": [
        {
          "output_type": "stream",
          "name": "stdout",
          "text": [
            "Z-score: 2.4\n"
          ]
        }
      ]
    }
  ]
}